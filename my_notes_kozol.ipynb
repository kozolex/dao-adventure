{
 "cells": [
  {
   "cell_type": "markdown",
   "metadata": {},
   "source": [
    "Konfiguracja środowiska:<br>\n",
    "WIN10/11:<br>\n",
    "1. Uruchamiam power shell jako administrator\n",
    "2. wsl --install\n",
    "3. ustawiam login i hasło\n",
    "4. sudo apt update\n",
    "5. sudo apt full-upgrade\n",
    "6. sh -ci \"$(curl -fsSL https://internetcomputer.org/install.sh)\"\n",
    "Aktualizacja node.js i modulu MOPS:<br>\n",
    "Pobierz i zainstaluj nvm:<br>\n",
    "1. curl -o- https://raw.githubusercontent.com/nvm-sh/nvm/v0.38.0/install.sh | bash\n",
    "2. Zresetuj terminal\n",
    "3. nvm install node\n",
    "4. npm i -g ic-mops\n",
    "\n"
   ]
  },
  {
   "cell_type": "markdown",
   "metadata": {},
   "source": [
    "dfx deploy --playground level_1 <br>\n",
    "mops init<br>\n",
    "mops test level-1<br>\n",
    "dfx identity get-principal"
   ]
  },
  {
   "cell_type": "markdown",
   "metadata": {},
   "source": [
    "dfx start --clean --background # Run dfx in the background <br>\n",
    "npm run setup # Install packages, deploy canisters, and generate type bindings <br>\n",
    "npm start # Start the development server <br>"
   ]
  }
 ],
 "metadata": {
  "language_info": {
   "name": "python"
  }
 },
 "nbformat": 4,
 "nbformat_minor": 2
}
